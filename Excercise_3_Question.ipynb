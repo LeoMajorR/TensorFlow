{
  "nbformat": 4,
  "nbformat_minor": 0,
  "metadata": {
    "coursera": {
      "course_slug": "introduction-tensorflow",
      "graded_item_id": "ml06H",
      "launcher_item_id": "hQF8A"
    },
    "kernelspec": {
      "display_name": "Python 3",
      "language": "python",
      "name": "python3"
    },
    "language_info": {
      "codemirror_mode": {
        "name": "ipython",
        "version": 3
      },
      "file_extension": ".py",
      "mimetype": "text/x-python",
      "name": "python",
      "nbconvert_exporter": "python",
      "pygments_lexer": "ipython3",
      "version": "3.6.8"
    },
    "colab": {
      "name": "Excercise-3-Question.ipynb",
      "provenance": [],
      "include_colab_link": true
    }
  },
  "cells": [
    {
      "cell_type": "markdown",
      "metadata": {
        "id": "view-in-github",
        "colab_type": "text"
      },
      "source": [
        "<a href=\"https://colab.research.google.com/github/LeoMajorR/TensorFlow/blob/main/Excercise_3_Question.ipynb\" target=\"_parent\"><img src=\"https://colab.research.google.com/assets/colab-badge.svg\" alt=\"Open In Colab\"/></a>"
      ]
    },
    {
      "cell_type": "markdown",
      "metadata": {
        "id": "iQjHqsmTAVLU"
      },
      "source": [
        "## Exercise 3\n",
        "In the videos you looked at how you would improve Fashion MNIST using Convolutions. For your exercise see if you can improve MNIST to 99.8% accuracy or more using only a single convolutional layer and a single MaxPooling 2D. You should stop training once the accuracy goes above this amount. It should happen in less than 20 epochs, so it's ok to hard code the number of epochs for training, but your training must end once it hits the above metric. If it doesn't, then you'll need to redesign your layers.\n",
        "\n",
        "I've started the code for you -- you need to finish it!\n",
        "\n",
        "When 99.8% accuracy has been hit, you should print out the string \"Reached 99.8% accuracy so cancelling training!\"\n"
      ]
    },
    {
      "cell_type": "code",
      "metadata": {
        "id": "Z8nKCPqv3bPf"
      },
      "source": [
        "import tensorflow as tf\n",
        "from os import path, getcwd, chdir\n",
        "\n",
        "# DO NOT CHANGE THE LINE BELOW. If you are developing in a local\n",
        "# environment, then grab mnist.npz from the Coursera Jupyter Notebook\n",
        "# and place it inside a local folder and edit the path to that location\n",
        "path = f\"{getcwd()}/../tmp2/mnist.npz\""
      ],
      "execution_count": null,
      "outputs": []
    },
    {
      "cell_type": "code",
      "metadata": {
        "id": "F29taL8c3bPm"
      },
      "source": [
        "config = tf.ConfigProto()\n",
        "config.gpu_options.allow_growth = True\n",
        "sess = tf.Session(config=config)"
      ],
      "execution_count": null,
      "outputs": []
    },
    {
      "cell_type": "code",
      "metadata": {
        "id": "lGHafHeM3bPu"
      },
      "source": [
        "# GRADED FUNCTION: train_mnist_conv\n",
        "def train_mnist_conv():\n",
        "    # Please write your code only where you are indicated.\n",
        "    # please do not remove model fitting inline comments.\n",
        "\n",
        "    # YOUR CODE STARTS HERE\n",
        "    class myCallback(tf.keras.callbacks.Callback):\n",
        "        def on_epoch_end(self, epoch, logs={}):\n",
        "            if(logs.get('acc')>0.998):\n",
        "                print(\"\\nReached 99.8% accuracy so cancelling training!\")\n",
        "                self.model.stop_training = True\n",
        "    \n",
        "    # YOUR CODE ENDS HERE\n",
        "\n",
        "    mnist = tf.keras.datasets.mnist\n",
        "    (training_images, training_labels), (test_images, test_labels) = mnist.load_data(path=path)\n",
        "    # YOUR CODE STARTS HERE\n",
        "    \n",
        "    callbacks = myCallback()\n",
        "    \n",
        "    training_images=training_images.reshape(60000, 28, 28, 1)\n",
        "    training_images=training_images / 255.0\n",
        "    test_images = test_images.reshape(10000, 28, 28, 1)\n",
        "    test_images=test_images/255.0\n",
        "\n",
        "    # YOUR CODE ENDS HERE\n",
        "\n",
        "    model = tf.keras.models.Sequential([\n",
        "            # YOUR CODE STARTS HERE\n",
        "            tf.keras.layers.Conv2D(64, (3,3), activation='relu', input_shape=(28, 28, 1)),\n",
        "            tf.keras.layers.MaxPooling2D(2, 2),\n",
        "            tf.keras.layers.Conv2D(64, (3,3), activation='relu'),\n",
        "            tf.keras.layers.MaxPooling2D(2,2),\n",
        "            tf.keras.layers.Flatten(),\n",
        "            tf.keras.layers.Dense(128, activation='relu'),\n",
        "            tf.keras.layers.Dense(10, activation='softmax')\n",
        "\n",
        "            # YOUR CODE ENDS HERE\n",
        "    ])\n",
        "\n",
        "    model.compile(optimizer='adam', loss='sparse_categorical_crossentropy', metrics=['accuracy'])\n",
        "    # model fitting\n",
        "    history = model.fit(\n",
        "        # YOUR CODE STARTS HERE\n",
        "        training_images, training_labels, epochs=20, callbacks=[callbacks]\n",
        "        # YOUR CODE ENDS HERE\n",
        "    )\n",
        "    # model fitting\n",
        "    return history.epoch, history.history['acc'][-1]\n",
        "\n"
      ],
      "execution_count": null,
      "outputs": []
    },
    {
      "cell_type": "code",
      "metadata": {
        "id": "6v48uZuj3bPy",
        "outputId": "4c420319-a2b6-4b06-c24f-ed8ca5bcb33c"
      },
      "source": [
        "_, _ = train_mnist_conv()"
      ],
      "execution_count": null,
      "outputs": [
        {
          "output_type": "stream",
          "text": [
            "WARNING: Logging before flag parsing goes to stderr.\n",
            "W1007 20:04:32.519669 139995395213120 deprecation.py:506] From /usr/local/lib/python3.6/dist-packages/tensorflow/python/ops/init_ops.py:1251: calling VarianceScaling.__init__ (from tensorflow.python.ops.init_ops) with dtype is deprecated and will be removed in a future version.\n",
            "Instructions for updating:\n",
            "Call initializer instance with the dtype argument instead of passing it to the constructor\n"
          ],
          "name": "stderr"
        },
        {
          "output_type": "stream",
          "text": [
            "Epoch 1/20\n",
            "60000/60000 [==============================] - 17s 282us/sample - loss: 0.1266 - acc: 0.9608\n",
            "Epoch 2/20\n",
            "60000/60000 [==============================] - 14s 228us/sample - loss: 0.0412 - acc: 0.9870\n",
            "Epoch 3/20\n",
            "60000/60000 [==============================] - 14s 235us/sample - loss: 0.0274 - acc: 0.9914\n",
            "Epoch 4/20\n",
            "60000/60000 [==============================] - 14s 227us/sample - loss: 0.0203 - acc: 0.9936\n",
            "Epoch 5/20\n",
            "60000/60000 [==============================] - 13s 217us/sample - loss: 0.0146 - acc: 0.9954\n",
            "Epoch 6/20\n",
            "60000/60000 [==============================] - 13s 217us/sample - loss: 0.0116 - acc: 0.9962\n",
            "Epoch 7/20\n",
            "60000/60000 [==============================] - 13s 220us/sample - loss: 0.0107 - acc: 0.9963\n",
            "Epoch 8/20\n",
            "60000/60000 [==============================] - 13s 215us/sample - loss: 0.0079 - acc: 0.9974\n",
            "Epoch 9/20\n",
            "60000/60000 [==============================] - 13s 216us/sample - loss: 0.0072 - acc: 0.9976\n",
            "Epoch 10/20\n",
            "60000/60000 [==============================] - 13s 212us/sample - loss: 0.0068 - acc: 0.9977\n",
            "Epoch 11/20\n",
            "59584/60000 [============================>.] - ETA: 0s - loss: 0.0054 - acc: 0.9983\n",
            "Reached 99.8% accuracy so cancelling training!\n",
            "60000/60000 [==============================] - 13s 219us/sample - loss: 0.0054 - acc: 0.9983\n"
          ],
          "name": "stdout"
        }
      ]
    },
    {
      "cell_type": "code",
      "metadata": {
        "id": "ee2J0o5w3bP4"
      },
      "source": [
        "# Now click the 'Submit Assignment' button above.\n",
        "# Once that is complete, please run the following two cells to save your work and close the notebook"
      ],
      "execution_count": null,
      "outputs": []
    },
    {
      "cell_type": "code",
      "metadata": {
        "id": "Cu9I3jNR3bP9"
      },
      "source": [
        "%%javascript\n",
        "<!-- Save the notebook -->\n",
        "IPython.notebook.save_checkpoint();"
      ],
      "execution_count": null,
      "outputs": []
    },
    {
      "cell_type": "code",
      "metadata": {
        "id": "CLbmzZIV3bQC"
      },
      "source": [
        "%%javascript\n",
        "IPython.notebook.session.delete();\n",
        "window.onbeforeunload = null\n",
        "setTimeout(function() { window.close(); }, 1000);"
      ],
      "execution_count": null,
      "outputs": []
    }
  ]
}